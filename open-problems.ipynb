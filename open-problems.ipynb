{
 "cells": [
  {
   "cell_type": "markdown",
   "id": "cb81cbbb",
   "metadata": {},
   "source": [
    "# Open problems in enriched $\\infty$-category theory\n",
    "\n",
    "Or more precisely, problems that are solved at best in a paper I haven't read.\n",
    "\n",
    "1. A construction of the corepresenting operad $\\mathtt{Ass}_X$ that is actually feasible to work with (I have a good idea of how to do this, but haven't found time to write it down yet.)\n",
    "\n",
    "2. Show that Heine's construction of adjoint enrichments specialises to both Gepner-Haugseng and Hinich's construction on each object (probably one of these is shown in the paper and the other is open).\n",
    "\n",
    "3. Show that for presentably symmetric monoidal $\\mathcal{V}$ and presentable $\\mathcal{V}$-module $Y$, Heine's equivalence exchanges Hinich's $\\mathcal{V}$-module of functors $\\mathrm{Fun}_\\mathcal{V}(X,Y)$ with the internal Hom in $\\mathcal{V}\\mathbf{Cat}$ from $X$ to the dual $\\mathcal{V}$-enrichment of $Y$. (This might follow from results of Heine and Berman.)\n",
    "\n",
    "4. Show that the autoequivalence group of $\\mathcal{V}\\mathbf{Cat}$ fits into an exact sequence\n",
    "   $$\n",
    "   1\\rightarrow  \\mathrm{Aut}(\\mathcal{V},\\otimes)\\rightarrow\\mathrm{Aut}(\\mathcal{V}\\mathbf{Cat}) \\rightarrow H \\rightarrow 1\n",
    "   $$\n",
    "   where\n",
    "   $$\n",
    "   H= \\left\\{ \\begin{array}{ll}\n",
    "   C_2 & \\text{if }(\\mathcal{V},\\otimes)\\simeq(\\mathcal{V},\\otimes^\\mathrm{op}) \\\\\n",
    "   1 & \\text{otherwise.}\n",
    "   \\end{array}\\right.\n",
    "   $$\n",
    "   The space of splittings of the sequence is equivalent to the space of involutive structures on $\\mathcal{V}$ (which can be thought of as inducing \"opposite\" autoequivalences on $\\mathcal{V}\\mathbf{Cat}$). (I thought I had proved this, but there was a gap in my argument that has yet to be filled.)"
   ]
  }
 ],
 "metadata": {
  "kernelspec": {
   "display_name": "Python 3",
   "language": "python",
   "name": "python3"
  },
  "language_info": {
   "codemirror_mode": {
    "name": "ipython",
    "version": 3
   },
   "file_extension": ".py",
   "mimetype": "text/x-python",
   "name": "python",
   "nbconvert_exporter": "python",
   "pygments_lexer": "ipython3",
   "version": "3.9.4"
  }
 },
 "nbformat": 4,
 "nbformat_minor": 5
}
