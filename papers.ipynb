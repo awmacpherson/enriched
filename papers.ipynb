{
 "cells": [
  {
   "cell_type": "markdown",
   "id": "312bb82b",
   "metadata": {},
   "source": [
    "# Papers on enriched $\\infty$-category theory\n",
    "\n",
    "I created this repo so that I have somewhere to point people when they ask \"what's up with enriched higher category theory? I mean what's up with it?\"\n",
    "\n",
    "## Papers of the now\n",
    "\n",
    "Five hand-picked papers that represent what I know about the subject right now. I've probably missed some important ones &mdash; let me know or come and edit the list yourself!\n",
    "\n",
    "- [1312.3178](https://arxiv.org/abs/1312.3178) &mdash; *Enriched $\\infty$-categories via non-symmetric $\\infty$-operads*, David Gepner and Rune Haugseng, 2013 (v1); 2015 (Adv. Math.); 2019 (v4).\n",
    "\n",
    "  The major (in 2021) definition of enriched $\\infty$-categories in use. Establishes properties of the category of presentable $\\mathcal{V}$-categories (such as presentability when $\\mathcal{V}$ is presentable). First construction of *adjoint enrichments* using a generators-and-relations model.\n",
    "\n",
    "- [1805.07635](https://arxiv.org/abs/1805.07635) &mdash; *Yoneda lemma for enriched infinity categories*, V. Hinich, 2019 (v1); 2020 (Adv. Math.); 2021 (v8).\n",
    "\n",
    "  Another attack on enriched $\\mathcal{V}$-categories that focuses on the corepresenting planar operad (as opposed to the *generalised* planar operad prioritised by Gepner-Haugseng). Makes the adjoint enrichment a central theme and uses it to define enriched presheaves as a left $\\mathcal{V}$-module and prove a Yoneda lemma.\n",
    "\n",
    "- [2009.02428](https://arxiv.org/abs/2009.02428) &mdash; *An equivalence between enriched ∞-categories and ∞-categories with weak action*, Hadrian Heine, 2020.\n",
    "\n",
    "  Upgrades either Hinich's or Gepner-Haugseng's construction of adjoint enrichments to an equivalence between the categories of enriched $\\mathcal{V}$-categories and left $\\mathcal{V}$-modules (I haven't checked which). This should make the theory of adjoint enrichments really usable, since in practice this seems to be the main way of defining $\\mathcal{V}$-enrichments.\n",
    "\n",
    "- [1902.08881](https://arxiv.org/abs/1902.08881) &mdash; *The operad corepresenting enrichment,* A. W. Macpherson, 2019 (v1); 2021 (HHA). \n",
    "\n",
    "  Equivalence of Hinich's planar operad $\\mathtt{Ass}_X$ and Gepner-Haugseng's simplicial multicategory $\\mathcal{O}_X$ for $X$ an $\\infty$-groupoid, and hence equivalence of the corresponding $\\infty$-categories of enriched $\\infty$-categories. This does *not* address the important question of comparing their constructions of adjoint enrichments &mdash; still open as far as I know!\n",
    "\n",
    "- [2008.11323](https://arxiv.org/abs/2008.11323) &mdash; *Enriched infinity categories I: enriched presheaves*, John D. Berman, 2020.\n",
    "\n",
    "  Establishes fundamental properties of enriched presheaves over a presentable $\\mathcal{V}$ as a $\\mathcal{V}$-module: that they form a presentable $\\mathcal{V}$-module generated as such by representables, that limits and colimits are pointwise, the tensor identities \n",
    "  $$\n",
    "  \\mathrm{PSh}^\\mathcal{V}(C,M) \\cong \\mathrm{PSh}^\\mathcal{V}(C,\\mathcal{V})\\otimes_\\mathcal{V}M\n",
    "  $$\n",
    "  and that $\\mathrm{PSh}^\\mathcal{V}(C)$ is dual to $\\mathrm{PSh}^\\mathcal{V}(C^\\mathrm{op})$ (all in the symmetric monoidal category of presentable $\\mathcal{V}$-modules)."
   ]
  },
  {
   "cell_type": "markdown",
   "id": "1deba45c",
   "metadata": {},
   "source": [
    "## Other papers that might be important\n",
    "\n",
    "Leaving room here for other papers that don't fit into the above list (which will be kept to 7 items at most)."
   ]
  }
 ],
 "metadata": {
  "kernelspec": {
   "display_name": "Python 3",
   "language": "python",
   "name": "python3"
  },
  "language_info": {
   "codemirror_mode": {
    "name": "ipython",
    "version": 3
   },
   "file_extension": ".py",
   "mimetype": "text/x-python",
   "name": "python",
   "nbconvert_exporter": "python",
   "pygments_lexer": "ipython3",
   "version": "3.9.4"
  }
 },
 "nbformat": 4,
 "nbformat_minor": 5
}
